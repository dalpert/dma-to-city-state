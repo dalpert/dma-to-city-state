{
 "cells": [
  {
   "cell_type": "code",
   "execution_count": 1,
   "id": "14b9c419",
   "metadata": {},
   "outputs": [],
   "source": [
    "import numpy as np\n",
    "import pandas as pd\n",
    "import zipcodes"
   ]
  },
  {
   "cell_type": "markdown",
   "id": "28c259c7",
   "metadata": {},
   "source": [
    "# DMAs to ZIPs"
   ]
  },
  {
   "cell_type": "code",
   "execution_count": 3,
   "id": "bf62bc34",
   "metadata": {},
   "outputs": [
    {
     "data": {
      "text/html": [
       "<div>\n",
       "<style scoped>\n",
       "    .dataframe tbody tr th:only-of-type {\n",
       "        vertical-align: middle;\n",
       "    }\n",
       "\n",
       "    .dataframe tbody tr th {\n",
       "        vertical-align: top;\n",
       "    }\n",
       "\n",
       "    .dataframe thead th {\n",
       "        text-align: right;\n",
       "    }\n",
       "</style>\n",
       "<table border=\"1\" class=\"dataframe\">\n",
       "  <thead>\n",
       "    <tr style=\"text-align: right;\">\n",
       "      <th></th>\n",
       "      <th>zip_code</th>\n",
       "      <th>dma_code</th>\n",
       "      <th>dma_description</th>\n",
       "    </tr>\n",
       "  </thead>\n",
       "  <tbody>\n",
       "    <tr>\n",
       "      <th>0</th>\n",
       "      <td>1001</td>\n",
       "      <td>543</td>\n",
       "      <td>SPRINGFIELD - HOLYOKE</td>\n",
       "    </tr>\n",
       "    <tr>\n",
       "      <th>1</th>\n",
       "      <td>1002</td>\n",
       "      <td>543</td>\n",
       "      <td>SPRINGFIELD - HOLYOKE</td>\n",
       "    </tr>\n",
       "    <tr>\n",
       "      <th>2</th>\n",
       "      <td>1003</td>\n",
       "      <td>543</td>\n",
       "      <td>SPRINGFIELD - HOLYOKE</td>\n",
       "    </tr>\n",
       "    <tr>\n",
       "      <th>3</th>\n",
       "      <td>1004</td>\n",
       "      <td>543</td>\n",
       "      <td>SPRINGFIELD - HOLYOKE</td>\n",
       "    </tr>\n",
       "    <tr>\n",
       "      <th>4</th>\n",
       "      <td>1005</td>\n",
       "      <td>506</td>\n",
       "      <td>BOSTON (MANCHESTER)</td>\n",
       "    </tr>\n",
       "  </tbody>\n",
       "</table>\n",
       "</div>"
      ],
      "text/plain": [
       "   zip_code  dma_code        dma_description\n",
       "0      1001       543  SPRINGFIELD - HOLYOKE\n",
       "1      1002       543  SPRINGFIELD - HOLYOKE\n",
       "2      1003       543  SPRINGFIELD - HOLYOKE\n",
       "3      1004       543  SPRINGFIELD - HOLYOKE\n",
       "4      1005       506    BOSTON (MANCHESTER)"
      ]
     },
     "execution_count": 3,
     "metadata": {},
     "output_type": "execute_result"
    }
   ],
   "source": [
    "# load generic ZIP / DMA file\n",
    "zip_to_dma = pd.read_csv('data/zip_to_dma', sep='\\t')\n",
    "zip_to_dma.head(5)"
   ]
  },
  {
   "cell_type": "code",
   "execution_count": 5,
   "id": "a35a358e",
   "metadata": {},
   "outputs": [
    {
     "data": {
      "text/html": [
       "<div>\n",
       "<style scoped>\n",
       "    .dataframe tbody tr th:only-of-type {\n",
       "        vertical-align: middle;\n",
       "    }\n",
       "\n",
       "    .dataframe tbody tr th {\n",
       "        vertical-align: top;\n",
       "    }\n",
       "\n",
       "    .dataframe thead th {\n",
       "        text-align: right;\n",
       "    }\n",
       "</style>\n",
       "<table border=\"1\" class=\"dataframe\">\n",
       "  <thead>\n",
       "    <tr style=\"text-align: right;\">\n",
       "      <th></th>\n",
       "      <th>dma_code</th>\n",
       "      <th>dma_description</th>\n",
       "    </tr>\n",
       "  </thead>\n",
       "  <tbody>\n",
       "    <tr>\n",
       "      <th>0</th>\n",
       "      <td>528</td>\n",
       "      <td>MIAMI - FT. LAUDERDALE</td>\n",
       "    </tr>\n",
       "    <tr>\n",
       "      <th>1</th>\n",
       "      <td>635</td>\n",
       "      <td>AUSTIN</td>\n",
       "    </tr>\n",
       "    <tr>\n",
       "      <th>2</th>\n",
       "      <td>602</td>\n",
       "      <td>CHICAGO</td>\n",
       "    </tr>\n",
       "    <tr>\n",
       "      <th>3</th>\n",
       "      <td>753</td>\n",
       "      <td>PHOENIX (PRESCOTT)</td>\n",
       "    </tr>\n",
       "    <tr>\n",
       "      <th>4</th>\n",
       "      <td>504</td>\n",
       "      <td>PHILADELPHIA</td>\n",
       "    </tr>\n",
       "  </tbody>\n",
       "</table>\n",
       "</div>"
      ],
      "text/plain": [
       "   dma_code         dma_description\n",
       "0       528  MIAMI - FT. LAUDERDALE\n",
       "1       635                  AUSTIN\n",
       "2       602                 CHICAGO\n",
       "3       753      PHOENIX (PRESCOTT)\n",
       "4       504            PHILADELPHIA"
      ]
     },
     "execution_count": 5,
     "metadata": {},
     "output_type": "execute_result"
    }
   ],
   "source": [
    "# load test set DMA file\n",
    "dma = pd.read_csv('data/dma_test_set.csv')\n",
    "dma.rename(columns={'DMA': 'dma_code', 'DMA Name': 'dma_description'}, inplace=True)\n",
    "dma.head(5)"
   ]
  },
  {
   "cell_type": "code",
   "execution_count": 7,
   "id": "948a9d57",
   "metadata": {},
   "outputs": [
    {
     "data": {
      "text/html": [
       "<div>\n",
       "<style scoped>\n",
       "    .dataframe tbody tr th:only-of-type {\n",
       "        vertical-align: middle;\n",
       "    }\n",
       "\n",
       "    .dataframe tbody tr th {\n",
       "        vertical-align: top;\n",
       "    }\n",
       "\n",
       "    .dataframe thead th {\n",
       "        text-align: right;\n",
       "    }\n",
       "</style>\n",
       "<table border=\"1\" class=\"dataframe\">\n",
       "  <thead>\n",
       "    <tr style=\"text-align: right;\">\n",
       "      <th></th>\n",
       "      <th>zip_code</th>\n",
       "      <th>dma_code</th>\n",
       "      <th>dma_description</th>\n",
       "    </tr>\n",
       "  </thead>\n",
       "  <tbody>\n",
       "    <tr>\n",
       "      <th>13620</th>\n",
       "      <td>33001</td>\n",
       "      <td>528</td>\n",
       "      <td>MIAMI - FT. LAUDERDALE</td>\n",
       "    </tr>\n",
       "    <tr>\n",
       "      <th>13621</th>\n",
       "      <td>33002</td>\n",
       "      <td>528</td>\n",
       "      <td>MIAMI - FT. LAUDERDALE</td>\n",
       "    </tr>\n",
       "    <tr>\n",
       "      <th>13622</th>\n",
       "      <td>33004</td>\n",
       "      <td>528</td>\n",
       "      <td>MIAMI - FT. LAUDERDALE</td>\n",
       "    </tr>\n",
       "    <tr>\n",
       "      <th>13623</th>\n",
       "      <td>33008</td>\n",
       "      <td>528</td>\n",
       "      <td>MIAMI - FT. LAUDERDALE</td>\n",
       "    </tr>\n",
       "    <tr>\n",
       "      <th>13624</th>\n",
       "      <td>33009</td>\n",
       "      <td>528</td>\n",
       "      <td>MIAMI - FT. LAUDERDALE</td>\n",
       "    </tr>\n",
       "  </tbody>\n",
       "</table>\n",
       "</div>"
      ],
      "text/plain": [
       "       zip_code  dma_code         dma_description\n",
       "13620     33001       528  MIAMI - FT. LAUDERDALE\n",
       "13621     33002       528  MIAMI - FT. LAUDERDALE\n",
       "13622     33004       528  MIAMI - FT. LAUDERDALE\n",
       "13623     33008       528  MIAMI - FT. LAUDERDALE\n",
       "13624     33009       528  MIAMI - FT. LAUDERDALE"
      ]
     },
     "execution_count": 7,
     "metadata": {},
     "output_type": "execute_result"
    }
   ],
   "source": [
    "# gut check - check that 528 is Miami\n",
    "zip_to_dma[zip_to_dma['dma_code'] == 528].head(5)"
   ]
  },
  {
   "cell_type": "code",
   "execution_count": 8,
   "id": "86990934",
   "metadata": {},
   "outputs": [],
   "source": [
    "dma_with_zips = pd.merge(left=dma, right=zip_to_dma, on='dma_code', how='inner')\n",
    "dma_with_zips = dma_with_zips[['dma_code', 'dma_description_x', 'zip_code']]\n",
    "dma_with_zips.rename(columns={'dma_description_x': 'dma_name'}, inplace=True)"
   ]
  },
  {
   "cell_type": "code",
   "execution_count": 9,
   "id": "fca053a2",
   "metadata": {},
   "outputs": [
    {
     "data": {
      "text/plain": [
       "array([528, 635, 602, 753, 504, 770, 534, 862, 505, 512, 535, 561, 804,\n",
       "       567, 544, 533, 790, 622, 563, 757, 811, 630, 686, 679, 556, 669,\n",
       "       749, 866, 566, 529, 754, 523, 550, 507, 678, 658, 765, 541, 637,\n",
       "       801, 514, 633, 821, 648, 716, 693, 577, 513, 800, 868, 592, 675,\n",
       "       547, 656, 642, 760, 702, 743, 509, 530, 574, 600, 698, 588, 531,\n",
       "       543, 687, 610, 564, 582, 705, 598, 537, 526, 603, 569, 734, 767,\n",
       "       759, 661, 755, 558, 581, 606, 631, 643, 639, 553, 554, 711, 647,\n",
       "       597, 740])"
      ]
     },
     "execution_count": 9,
     "metadata": {},
     "output_type": "execute_result"
    }
   ],
   "source": [
    "# unique zip codes in our file -- matches the test set!\n",
    "dma_with_zips['dma_code'].unique()"
   ]
  },
  {
   "cell_type": "code",
   "execution_count": 10,
   "id": "4d97b056",
   "metadata": {},
   "outputs": [
    {
     "data": {
      "text/html": [
       "<div>\n",
       "<style scoped>\n",
       "    .dataframe tbody tr th:only-of-type {\n",
       "        vertical-align: middle;\n",
       "    }\n",
       "\n",
       "    .dataframe tbody tr th {\n",
       "        vertical-align: top;\n",
       "    }\n",
       "\n",
       "    .dataframe thead th {\n",
       "        text-align: right;\n",
       "    }\n",
       "</style>\n",
       "<table border=\"1\" class=\"dataframe\">\n",
       "  <thead>\n",
       "    <tr style=\"text-align: right;\">\n",
       "      <th></th>\n",
       "      <th>dma_code</th>\n",
       "      <th>dma_name</th>\n",
       "      <th>zip_code</th>\n",
       "    </tr>\n",
       "  </thead>\n",
       "  <tbody>\n",
       "    <tr>\n",
       "      <th>0</th>\n",
       "      <td>528</td>\n",
       "      <td>MIAMI - FT. LAUDERDALE</td>\n",
       "      <td>33001</td>\n",
       "    </tr>\n",
       "    <tr>\n",
       "      <th>1</th>\n",
       "      <td>528</td>\n",
       "      <td>MIAMI - FT. LAUDERDALE</td>\n",
       "      <td>33002</td>\n",
       "    </tr>\n",
       "    <tr>\n",
       "      <th>2</th>\n",
       "      <td>528</td>\n",
       "      <td>MIAMI - FT. LAUDERDALE</td>\n",
       "      <td>33004</td>\n",
       "    </tr>\n",
       "    <tr>\n",
       "      <th>3</th>\n",
       "      <td>528</td>\n",
       "      <td>MIAMI - FT. LAUDERDALE</td>\n",
       "      <td>33008</td>\n",
       "    </tr>\n",
       "    <tr>\n",
       "      <th>4</th>\n",
       "      <td>528</td>\n",
       "      <td>MIAMI - FT. LAUDERDALE</td>\n",
       "      <td>33009</td>\n",
       "    </tr>\n",
       "  </tbody>\n",
       "</table>\n",
       "</div>"
      ],
      "text/plain": [
       "   dma_code                dma_name  zip_code\n",
       "0       528  MIAMI - FT. LAUDERDALE     33001\n",
       "1       528  MIAMI - FT. LAUDERDALE     33002\n",
       "2       528  MIAMI - FT. LAUDERDALE     33004\n",
       "3       528  MIAMI - FT. LAUDERDALE     33008\n",
       "4       528  MIAMI - FT. LAUDERDALE     33009"
      ]
     },
     "execution_count": 10,
     "metadata": {},
     "output_type": "execute_result"
    }
   ],
   "source": [
    "dma_with_zips.head(5)"
   ]
  },
  {
   "cell_type": "markdown",
   "id": "47f46089",
   "metadata": {},
   "source": [
    "# ZIPs to City & State"
   ]
  },
  {
   "cell_type": "code",
   "execution_count": 11,
   "id": "10cea9f3",
   "metadata": {},
   "outputs": [
    {
     "name": "stdout",
     "output_type": "stream",
     "text": [
      "San Francisco CA\n"
     ]
    }
   ],
   "source": [
    "example_zip = '94110'\n",
    "city = zipcodes.matching(example_zip)[0]['city']\n",
    "state = zipcodes.matching(example_zip)[0]['state']\n",
    "print(city, state)"
   ]
  },
  {
   "cell_type": "code",
   "execution_count": 13,
   "id": "b9876aa4",
   "metadata": {},
   "outputs": [],
   "source": [
    "# convert zip code to either city or state\n",
    "def zip_to_location_info(zip_code: str, info_key: str) -> str:\n",
    "    # check that we're requesting valid info\n",
    "    if info_key not in ['city', 'state']:\n",
    "        print(\"Invalid information to request\")\n",
    "     \n",
    "    # left pad string with 0s if less than 5 digits\n",
    "    if len(zip_code) < 5:\n",
    "        zip_code = zip_code.zfill(5)\n",
    "    \n",
    "    # check if zip code is real\n",
    "    if zipcodes.is_real(zip_code):\n",
    "        zip_dict = zipcodes.matching(zip_code)[0]\n",
    "        return zip_dict[info_key]\n",
    "    else:\n",
    "        return None"
   ]
  },
  {
   "cell_type": "code",
   "execution_count": 14,
   "id": "f78a318d",
   "metadata": {},
   "outputs": [
    {
     "name": "stdout",
     "output_type": "stream",
     "text": [
      "San Francisco\n",
      "CA\n"
     ]
    }
   ],
   "source": [
    "example_zip = '94110'\n",
    "print(zip_to_location_info(example_zip, 'city'))\n",
    "print(zip_to_location_info(example_zip, 'state'))"
   ]
  },
  {
   "cell_type": "code",
   "execution_count": 15,
   "id": "826299df",
   "metadata": {},
   "outputs": [
    {
     "name": "stdout",
     "output_type": "stream",
     "text": [
      "None\n",
      "None\n"
     ]
    }
   ],
   "source": [
    "example_zip = '111'\n",
    "print(zip_to_location_info(example_zip, 'city'))\n",
    "print(zip_to_location_info(example_zip, 'state'))"
   ]
  },
  {
   "cell_type": "code",
   "execution_count": null,
   "id": "e0c27f96",
   "metadata": {},
   "outputs": [],
   "source": [
    "dma_with_zips['city'] = dma_with_zips['zip_code'].apply(lambda x: zip_to_location_info(str(x), 'city'))\n",
    "dma_with_zips['state'] = dma_with_zips['zip_code'].apply(lambda x: zip_to_location_info(str(x), 'state'))"
   ]
  },
  {
   "cell_type": "code",
   "execution_count": null,
   "id": "1044effc",
   "metadata": {},
   "outputs": [],
   "source": [
    "# 16694 rows\n",
    "dma_with_zips.head(5)"
   ]
  },
  {
   "cell_type": "code",
   "execution_count": null,
   "id": "c0cf9eb6",
   "metadata": {},
   "outputs": [],
   "source": [
    "# drop 10 rows that aren't valid ZIPs - 16684 rows\n",
    "dma_with_city_state = dma_with_zips[~dma_with_zips['city'].isna()]"
   ]
  },
  {
   "cell_type": "code",
   "execution_count": null,
   "id": "095df2e3",
   "metadata": {},
   "outputs": [],
   "source": [
    "dma_with_city_state.to_csv('data/dma_with_city_state.csv', index=False)"
   ]
  },
  {
   "cell_type": "markdown",
   "id": "4a3c94d0",
   "metadata": {},
   "source": [
    "# Debug Nulls"
   ]
  },
  {
   "cell_type": "markdown",
   "id": "51b1d9bb",
   "metadata": {},
   "source": [
    "Not really needed, but just some debugging to confirm that the set of zip codes that returned no information are in fact not real zip codes."
   ]
  },
  {
   "cell_type": "code",
   "execution_count": 91,
   "id": "18d961ce",
   "metadata": {},
   "outputs": [],
   "source": [
    "invalid_zips = dma_with_zips[dma_with_zips['city'].isna()]"
   ]
  },
  {
   "cell_type": "code",
   "execution_count": 93,
   "id": "281da845",
   "metadata": {},
   "outputs": [
    {
     "data": {
      "text/html": [
       "<div>\n",
       "<style scoped>\n",
       "    .dataframe tbody tr th:only-of-type {\n",
       "        vertical-align: middle;\n",
       "    }\n",
       "\n",
       "    .dataframe tbody tr th {\n",
       "        vertical-align: top;\n",
       "    }\n",
       "\n",
       "    .dataframe thead th {\n",
       "        text-align: right;\n",
       "    }\n",
       "</style>\n",
       "<table border=\"1\" class=\"dataframe\">\n",
       "  <thead>\n",
       "    <tr style=\"text-align: right;\">\n",
       "      <th></th>\n",
       "      <th>dma_code</th>\n",
       "      <th>dma_name</th>\n",
       "      <th>zip_code</th>\n",
       "      <th>city</th>\n",
       "      <th>state</th>\n",
       "    </tr>\n",
       "  </thead>\n",
       "  <tbody>\n",
       "    <tr>\n",
       "      <th>655</th>\n",
       "      <td>602</td>\n",
       "      <td>CHICAGO</td>\n",
       "      <td>60296</td>\n",
       "      <td>None</td>\n",
       "      <td>None</td>\n",
       "    </tr>\n",
       "    <tr>\n",
       "      <th>656</th>\n",
       "      <td>602</td>\n",
       "      <td>CHICAGO</td>\n",
       "      <td>60297</td>\n",
       "      <td>None</td>\n",
       "      <td>None</td>\n",
       "    </tr>\n",
       "    <tr>\n",
       "      <th>738</th>\n",
       "      <td>602</td>\n",
       "      <td>CHICAGO</td>\n",
       "      <td>60483</td>\n",
       "      <td>None</td>\n",
       "      <td>None</td>\n",
       "    </tr>\n",
       "    <tr>\n",
       "      <th>1567</th>\n",
       "      <td>504</td>\n",
       "      <td>PHILADELPHIA</td>\n",
       "      <td>8677</td>\n",
       "      <td>None</td>\n",
       "      <td>None</td>\n",
       "    </tr>\n",
       "    <tr>\n",
       "      <th>7024</th>\n",
       "      <td>679</td>\n",
       "      <td>DES MOINES - AMES</td>\n",
       "      <td>50350</td>\n",
       "      <td>None</td>\n",
       "      <td>None</td>\n",
       "    </tr>\n",
       "    <tr>\n",
       "      <th>14368</th>\n",
       "      <td>610</td>\n",
       "      <td>ROCKFORD</td>\n",
       "      <td>61058</td>\n",
       "      <td>None</td>\n",
       "      <td>None</td>\n",
       "    </tr>\n",
       "    <tr>\n",
       "      <th>14667</th>\n",
       "      <td>564</td>\n",
       "      <td>CHARLESTON - HUNTINGTON</td>\n",
       "      <td>25697</td>\n",
       "      <td>None</td>\n",
       "      <td>None</td>\n",
       "    </tr>\n",
       "    <tr>\n",
       "      <th>16022</th>\n",
       "      <td>581</td>\n",
       "      <td>TERRE HAUTE</td>\n",
       "      <td>47813</td>\n",
       "      <td>None</td>\n",
       "      <td>None</td>\n",
       "    </tr>\n",
       "    <tr>\n",
       "      <th>16023</th>\n",
       "      <td>581</td>\n",
       "      <td>TERRE HAUTE</td>\n",
       "      <td>47814</td>\n",
       "      <td>None</td>\n",
       "      <td>None</td>\n",
       "    </tr>\n",
       "    <tr>\n",
       "      <th>16436</th>\n",
       "      <td>554</td>\n",
       "      <td>WHEELING - STEUBENVILLE</td>\n",
       "      <td>26186</td>\n",
       "      <td>None</td>\n",
       "      <td>None</td>\n",
       "    </tr>\n",
       "  </tbody>\n",
       "</table>\n",
       "</div>"
      ],
      "text/plain": [
       "       dma_code                 dma_name  zip_code  city state\n",
       "655         602                  CHICAGO     60296  None  None\n",
       "656         602                  CHICAGO     60297  None  None\n",
       "738         602                  CHICAGO     60483  None  None\n",
       "1567        504             PHILADELPHIA      8677  None  None\n",
       "7024        679        DES MOINES - AMES     50350  None  None\n",
       "14368       610                 ROCKFORD     61058  None  None\n",
       "14667       564  CHARLESTON - HUNTINGTON     25697  None  None\n",
       "16022       581              TERRE HAUTE     47813  None  None\n",
       "16023       581              TERRE HAUTE     47814  None  None\n",
       "16436       554  WHEELING - STEUBENVILLE     26186  None  None"
      ]
     },
     "execution_count": 93,
     "metadata": {},
     "output_type": "execute_result"
    }
   ],
   "source": [
    "invalid_zips"
   ]
  },
  {
   "cell_type": "code",
   "execution_count": 82,
   "id": "13330a90",
   "metadata": {},
   "outputs": [],
   "source": [
    "invalid_zips.to_csv('data/invalid_zips.csv')"
   ]
  },
  {
   "cell_type": "code",
   "execution_count": 74,
   "id": "e581fa69",
   "metadata": {},
   "outputs": [],
   "source": [
    "example_zip = '60296'"
   ]
  },
  {
   "cell_type": "code",
   "execution_count": 78,
   "id": "feb993cc",
   "metadata": {},
   "outputs": [
    {
     "data": {
      "text/plain": [
       "False"
      ]
     },
     "execution_count": 78,
     "metadata": {},
     "output_type": "execute_result"
    }
   ],
   "source": [
    "zipcodes.is_real(example_zip)"
   ]
  },
  {
   "cell_type": "code",
   "execution_count": 79,
   "id": "e5c41fc7",
   "metadata": {},
   "outputs": [
    {
     "data": {
      "text/plain": [
       "[]"
      ]
     },
     "execution_count": 79,
     "metadata": {},
     "output_type": "execute_result"
    }
   ],
   "source": [
    "zipcodes.similar_to(example_zip)"
   ]
  },
  {
   "cell_type": "code",
   "execution_count": null,
   "id": "0e1f94a9",
   "metadata": {},
   "outputs": [],
   "source": []
  }
 ],
 "metadata": {
  "kernelspec": {
   "display_name": "Python 3 (ipykernel)",
   "language": "python",
   "name": "python3"
  },
  "language_info": {
   "codemirror_mode": {
    "name": "ipython",
    "version": 3
   },
   "file_extension": ".py",
   "mimetype": "text/x-python",
   "name": "python",
   "nbconvert_exporter": "python",
   "pygments_lexer": "ipython3",
   "version": "3.9.16"
  }
 },
 "nbformat": 4,
 "nbformat_minor": 5
}
